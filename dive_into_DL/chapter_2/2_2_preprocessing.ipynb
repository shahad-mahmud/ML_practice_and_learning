{
    "cells": [
        {
            "cell_type": "code",
            "execution_count": 8,
            "source": [
                "import os\r\n",
                "\r\n",
                "os.makedirs(os.path.join(os.getcwd(), 'data'), exist_ok=True)\r\n",
                "data_file = os.path.join(os.getcwd(), 'data', 'house_tiny.csv')\r\n",
                "\r\n",
                "with open(data_file, 'w') as f:\r\n",
                "    f.write('NumRooms,Alley,Price\\n')  # Column names\r\n",
                "    f.write('NA,Pave,127500\\n')  # Each row represents a data example\r\n",
                "    f.write('2,NA,106000\\n')\r\n",
                "    f.write('4,NA,178100\\n')\r\n",
                "    f.write('NA,NA,140000\\n')"
            ],
            "outputs": [],
            "metadata": {}
        },
        {
            "cell_type": "code",
            "execution_count": 9,
            "source": [
                "import pandas as pd\r\n",
                "\r\n",
                "data = pd.read_csv(data_file)\r\n",
                "print(data)"
            ],
            "outputs": [
                {
                    "output_type": "stream",
                    "name": "stdout",
                    "text": [
                        "   NumRooms Alley   Price\n",
                        "0       NaN  Pave  127500\n",
                        "1       2.0   NaN  106000\n",
                        "2       4.0   NaN  178100\n",
                        "3       NaN   NaN  140000\n"
                    ]
                }
            ],
            "metadata": {}
        },
        {
            "cell_type": "code",
            "execution_count": 15,
            "source": [
                "# creat input and output\r\n",
                "inputs, outputs = data.iloc[:, :2], data.iloc[:, 2]\r\n",
                "inputs.NumRooms.fillna(inputs.NumRooms.mean(), inplace=True)\r\n",
                "inputs"
            ],
            "outputs": [
                {
                    "output_type": "execute_result",
                    "data": {
                        "text/plain": [
                            "   NumRooms Alley\n",
                            "0       3.0  Pave\n",
                            "1       2.0   NaN\n",
                            "2       4.0   NaN\n",
                            "3       3.0   NaN"
                        ],
                        "text/html": [
                            "<div>\n",
                            "<style scoped>\n",
                            "    .dataframe tbody tr th:only-of-type {\n",
                            "        vertical-align: middle;\n",
                            "    }\n",
                            "\n",
                            "    .dataframe tbody tr th {\n",
                            "        vertical-align: top;\n",
                            "    }\n",
                            "\n",
                            "    .dataframe thead th {\n",
                            "        text-align: right;\n",
                            "    }\n",
                            "</style>\n",
                            "<table border=\"1\" class=\"dataframe\">\n",
                            "  <thead>\n",
                            "    <tr style=\"text-align: right;\">\n",
                            "      <th></th>\n",
                            "      <th>NumRooms</th>\n",
                            "      <th>Alley</th>\n",
                            "    </tr>\n",
                            "  </thead>\n",
                            "  <tbody>\n",
                            "    <tr>\n",
                            "      <th>0</th>\n",
                            "      <td>3.0</td>\n",
                            "      <td>Pave</td>\n",
                            "    </tr>\n",
                            "    <tr>\n",
                            "      <th>1</th>\n",
                            "      <td>2.0</td>\n",
                            "      <td>NaN</td>\n",
                            "    </tr>\n",
                            "    <tr>\n",
                            "      <th>2</th>\n",
                            "      <td>4.0</td>\n",
                            "      <td>NaN</td>\n",
                            "    </tr>\n",
                            "    <tr>\n",
                            "      <th>3</th>\n",
                            "      <td>3.0</td>\n",
                            "      <td>NaN</td>\n",
                            "    </tr>\n",
                            "  </tbody>\n",
                            "</table>\n",
                            "</div>"
                        ]
                    },
                    "metadata": {},
                    "execution_count": 15
                }
            ],
            "metadata": {}
        },
        {
            "cell_type": "code",
            "execution_count": 18,
            "source": [
                "inputs = pd.get_dummies(inputs, dummy_na=True)\r\n",
                "inputs"
            ],
            "outputs": [
                {
                    "output_type": "execute_result",
                    "data": {
                        "text/plain": [
                            "   NumRooms  Alley_Pave  Alley_nan\n",
                            "0       3.0           1          0\n",
                            "1       2.0           0          1\n",
                            "2       4.0           0          1\n",
                            "3       3.0           0          1"
                        ],
                        "text/html": [
                            "<div>\n",
                            "<style scoped>\n",
                            "    .dataframe tbody tr th:only-of-type {\n",
                            "        vertical-align: middle;\n",
                            "    }\n",
                            "\n",
                            "    .dataframe tbody tr th {\n",
                            "        vertical-align: top;\n",
                            "    }\n",
                            "\n",
                            "    .dataframe thead th {\n",
                            "        text-align: right;\n",
                            "    }\n",
                            "</style>\n",
                            "<table border=\"1\" class=\"dataframe\">\n",
                            "  <thead>\n",
                            "    <tr style=\"text-align: right;\">\n",
                            "      <th></th>\n",
                            "      <th>NumRooms</th>\n",
                            "      <th>Alley_Pave</th>\n",
                            "      <th>Alley_nan</th>\n",
                            "    </tr>\n",
                            "  </thead>\n",
                            "  <tbody>\n",
                            "    <tr>\n",
                            "      <th>0</th>\n",
                            "      <td>3.0</td>\n",
                            "      <td>1</td>\n",
                            "      <td>0</td>\n",
                            "    </tr>\n",
                            "    <tr>\n",
                            "      <th>1</th>\n",
                            "      <td>2.0</td>\n",
                            "      <td>0</td>\n",
                            "      <td>1</td>\n",
                            "    </tr>\n",
                            "    <tr>\n",
                            "      <th>2</th>\n",
                            "      <td>4.0</td>\n",
                            "      <td>0</td>\n",
                            "      <td>1</td>\n",
                            "    </tr>\n",
                            "    <tr>\n",
                            "      <th>3</th>\n",
                            "      <td>3.0</td>\n",
                            "      <td>0</td>\n",
                            "      <td>1</td>\n",
                            "    </tr>\n",
                            "  </tbody>\n",
                            "</table>\n",
                            "</div>"
                        ]
                    },
                    "metadata": {},
                    "execution_count": 18
                }
            ],
            "metadata": {}
        },
        {
            "cell_type": "code",
            "execution_count": null,
            "source": [
                "import torch\r\n",
                "\r\n",
                "X, y = torch.tensor(inputs.values), torch.tensor(outputs.values)\r\n",
                "X, y"
            ],
            "outputs": [],
            "metadata": {}
        }
    ],
    "metadata": {
        "orig_nbformat": 4,
        "language_info": {
            "name": "python",
            "version": "3.9.5",
            "mimetype": "text/x-python",
            "codemirror_mode": {
                "name": "ipython",
                "version": 3
            },
            "pygments_lexer": "ipython3",
            "nbconvert_exporter": "python",
            "file_extension": ".py"
        },
        "kernelspec": {
            "name": "python3",
            "display_name": "Python 3.9.5 64-bit ('gen_env': conda)"
        },
        "interpreter": {
            "hash": "5fde2031923d16c3c5ff68a69b937fd6276ccd47de4cb320a3deb284e1aae8b1"
        }
    },
    "nbformat": 4,
    "nbformat_minor": 2
}
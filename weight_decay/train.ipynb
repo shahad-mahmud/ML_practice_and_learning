{
 "cells": [
  {
   "cell_type": "code",
   "execution_count": 1,
   "metadata": {},
   "outputs": [],
   "source": [
    "import torch\n",
    "import pandas as pd\n",
    "import matplotlib.pyplot as plt\n",
    "import seaborn as sns\n",
    "\n",
    "from model import Model\n",
    "import utils"
   ]
  },
  {
   "cell_type": "markdown",
   "metadata": {},
   "source": [
    "# Getting data\n",
    "For this task we will use an sample salary data."
   ]
  },
  {
   "cell_type": "code",
   "execution_count": 2,
   "metadata": {},
   "outputs": [],
   "source": [
    "n_train, n_test = 1000, 200\n",
    "n_inputs, batch_size = 200, 10\n",
    "\n",
    "weights, bias = utils.get_weights_and_bias(n_inputs)\n",
    "\n",
    "train_data = utils.create_data(weights, bias, n_train)\n",
    "test_data = utils.create_data(weights, bias, n_test)\n",
    "\n",
    "train_loader = utils.get_dataloader(train_data, batch_size=batch_size)\n",
    "test_loader = utils.get_dataloader(test_data, batch_size=batch_size)"
   ]
  },
  {
   "cell_type": "markdown",
   "metadata": {},
   "source": [
    "# Training the model \n",
    "Now we will create the model and train it."
   ]
  },
  {
   "cell_type": "code",
   "execution_count": 3,
   "metadata": {},
   "outputs": [],
   "source": [
    "model = Model(weights, bias)\n",
    "\n",
    "loss_fn = torch.nn.MSELoss()\n",
    "optimizer = torch.optim.SGD(model.parameters(), lr=0.01)\n",
    "\n",
    "epochs = 100"
   ]
  },
  {
   "cell_type": "code",
   "execution_count": 4,
   "metadata": {},
   "outputs": [],
   "source": [
    "def train(epochs, lambda_):\n",
    "    for epoch in range(epochs):\n",
    "        for batch in train_loader:\n",
    "            inputs, targets = batch\n",
    "            outputs = model(inputs.detach())\n",
    "            optimizer.zero_grad()\n",
    "            loss = loss_fn(outputs, targets) + lambda_ * \\\n",
    "                torch.sum(model.weights ** 2)\n",
    "            loss.backward(retain_graph=True)\n",
    "            optimizer.step()\n",
    "\n",
    "        if (epoch + 1) % 10 == 0:\n",
    "            print(f'Epoch {epoch + 1}: loss: {loss.item()}')\n",
    "\n",
    "    print('L2 norm of w:', torch.norm(model.weights).item())\n"
   ]
  },
  {
   "cell_type": "code",
   "execution_count": 5,
   "metadata": {},
   "outputs": [
    {
     "name": "stdout",
     "output_type": "stream",
     "text": [
      "Epoch 10: loss: 0.00013110277359373868\n",
      "Epoch 20: loss: 0.0001310967782046646\n",
      "Epoch 30: loss: 0.00013110179861541837\n",
      "Epoch 40: loss: 0.00013114980538375676\n",
      "Epoch 50: loss: 0.00013111726730130613\n",
      "Epoch 60: loss: 0.00013116348418407142\n",
      "Epoch 70: loss: 0.00013114817556925118\n",
      "Epoch 80: loss: 0.00013111307634972036\n",
      "Epoch 90: loss: 0.0001311299711233005\n",
      "Epoch 100: loss: 0.00013109479914419353\n",
      "L2 norm of w: 13.539770126342773\n"
     ]
    }
   ],
   "source": [
    "train(epochs, lambda_=0.0)\n"
   ]
  },
  {
   "cell_type": "code",
   "execution_count": 6,
   "metadata": {},
   "outputs": [
    {
     "name": "stdout",
     "output_type": "stream",
     "text": [
      "Epoch 10: loss: 158.75051879882812\n",
      "Epoch 20: loss: 158.75051879882812\n",
      "Epoch 30: loss: 158.75051879882812\n",
      "Epoch 40: loss: 158.75051879882812\n",
      "Epoch 50: loss: 158.75051879882812\n",
      "Epoch 60: loss: 158.75051879882812\n",
      "Epoch 70: loss: 158.75050354003906\n",
      "Epoch 80: loss: 158.75050354003906\n",
      "Epoch 90: loss: 158.75051879882812\n",
      "Epoch 100: loss: 158.75051879882812\n",
      "L2 norm of w: 4.824517250061035\n"
     ]
    }
   ],
   "source": [
    "train(epochs, lambda_=2)"
   ]
  }
 ],
 "metadata": {
  "interpreter": {
   "hash": "c296acb6242aad5c3f7786c5a0ae309e8ef4cdc760e8462d49ca738e0119baf8"
  },
  "kernelspec": {
   "display_name": "Python 3.9.0 64-bit ('gen_env': conda)",
   "language": "python",
   "name": "python3"
  },
  "language_info": {
   "codemirror_mode": {
    "name": "ipython",
    "version": 3
   },
   "file_extension": ".py",
   "mimetype": "text/x-python",
   "name": "python",
   "nbconvert_exporter": "python",
   "pygments_lexer": "ipython3",
   "version": "3.9.0"
  },
  "orig_nbformat": 4
 },
 "nbformat": 4,
 "nbformat_minor": 2
}

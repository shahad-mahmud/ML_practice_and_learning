{
 "cells": [
  {
   "cell_type": "code",
   "execution_count": 115,
   "metadata": {},
   "outputs": [],
   "source": [
    "import torch\n",
    "import pandas as pd\n",
    "import matplotlib.pyplot as plt\n",
    "import seaborn as sns\n",
    "\n",
    "from model import Model\n",
    "import utils"
   ]
  },
  {
   "cell_type": "markdown",
   "metadata": {},
   "source": [
    "# Getting data\n",
    "For this task we will use an sample salary data."
   ]
  },
  {
   "cell_type": "code",
   "execution_count": 116,
   "metadata": {},
   "outputs": [
    {
     "ename": "SyntaxError",
     "evalue": "invalid syntax (3873064544.py, line 4)",
     "output_type": "error",
     "traceback": [
      "\u001b[0;36m  File \u001b[0;32m\"/tmp/ipykernel_40355/3873064544.py\"\u001b[0;36m, line \u001b[0;32m4\u001b[0m\n\u001b[0;31m    weights, bias =\u001b[0m\n\u001b[0m                    ^\u001b[0m\n\u001b[0;31mSyntaxError\u001b[0m\u001b[0;31m:\u001b[0m invalid syntax\n"
     ]
    }
   ],
   "source": [
    "n_train, n_test = 1000, 200\n",
    "n_inputs, batch_size = 200, 10\n",
    "\n",
    "weights, bias = utils.get_weights_and_bias(n_inputs)\n",
    "\n",
    "train_data = utils.create_data(weights, bias, n_train)\n",
    "test_data = utils.create_data(weights, bias, n_test)"
   ]
  }
 ],
 "metadata": {
  "interpreter": {
   "hash": "c296acb6242aad5c3f7786c5a0ae309e8ef4cdc760e8462d49ca738e0119baf8"
  },
  "kernelspec": {
   "display_name": "Python 3.9.0 64-bit ('gen_env': conda)",
   "language": "python",
   "name": "python3"
  },
  "language_info": {
   "codemirror_mode": {
    "name": "ipython",
    "version": 3
   },
   "file_extension": ".py",
   "mimetype": "text/x-python",
   "name": "python",
   "nbconvert_exporter": "python",
   "pygments_lexer": "ipython3",
   "version": "3.9.0"
  },
  "orig_nbformat": 4
 },
 "nbformat": 4,
 "nbformat_minor": 2
}

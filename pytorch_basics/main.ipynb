{
 "cells": [
  {
   "cell_type": "code",
   "execution_count": 8,
   "metadata": {},
   "outputs": [],
   "source": [
    "import torch \n",
    "import numpy as np"
   ]
  },
  {
   "cell_type": "code",
   "execution_count": 14,
   "metadata": {},
   "outputs": [],
   "source": [
    "def describe(x: torch.Tensor):\n",
    "    print(f\"Type: {x.type()}\")\n",
    "    print(f\"Shape: {x.shape}\")\n",
    "    print(f\"Values: {x}\")\n",
    "\n",
    "def print_sep(message:str=\"\"):\n",
    "    print(f'\\n{message} ----------------------')"
   ]
  },
  {
   "cell_type": "code",
   "execution_count": 4,
   "metadata": {},
   "outputs": [
    {
     "name": "stdout",
     "output_type": "stream",
     "text": [
      "Type: torch.FloatTensor\n",
      "Shape: torch.Size([2, 3])\n",
      "Values: tensor([[4.7086e+29, 4.5817e-41, 4.7086e+29],\n",
      "        [4.5817e-41, 1.8755e+28, 3.1093e-18]])\n"
     ]
    }
   ],
   "source": [
    "# creating tensor\n",
    "describe(torch.Tensor(2, 3))"
   ]
  },
  {
   "cell_type": "code",
   "execution_count": 5,
   "metadata": {},
   "outputs": [
    {
     "name": "stdout",
     "output_type": "stream",
     "text": [
      "Type: torch.FloatTensor\n",
      "Shape: torch.Size([2, 3])\n",
      "Values: tensor([[0.1977, 0.5317, 0.5769],\n",
      "        [0.9022, 0.5112, 0.7846]])\n",
      "Type: torch.FloatTensor\n",
      "Shape: torch.Size([2, 3])\n",
      "Values: tensor([[ 0.1446, -0.5827,  0.1296],\n",
      "        [ 1.8142, -2.3821,  0.0912]])\n"
     ]
    }
   ],
   "source": [
    "# random tensors\n",
    "describe(torch.rand(2,3))  # uniform random\n",
    "describe(torch.randn(2,3))  # random normal"
   ]
  },
  {
   "cell_type": "code",
   "execution_count": 6,
   "metadata": {},
   "outputs": [
    {
     "name": "stdout",
     "output_type": "stream",
     "text": [
      "Type: torch.FloatTensor\n",
      "Shape: torch.Size([2, 3])\n",
      "Values: tensor([[0., 0., 0.],\n",
      "        [0., 0., 0.]])\n",
      "Type: torch.FloatTensor\n",
      "Shape: torch.Size([2, 3])\n",
      "Values: tensor([[1., 1., 1.],\n",
      "        [1., 1., 1.]])\n",
      "Type: torch.FloatTensor\n",
      "Shape: torch.Size([2, 3])\n",
      "Values: tensor([[5., 5., 5.],\n",
      "        [5., 5., 5.]])\n",
      "Type: torch.FloatTensor\n",
      "Shape: torch.Size([2, 3])\n",
      "Values: tensor([[5., 5., 5.],\n",
      "        [5., 5., 5.]])\n"
     ]
    }
   ],
   "source": [
    "# tensor with same scalar\n",
    "describe(torch.zeros(2,3))  # Tensor with all zero values\n",
    "describe(torch.ones(2,3))  # tensor with all ones\n",
    "\n",
    "describe(torch.zeros(2,3).fill_(5))  # fill a tensor with the specified value. \n",
    "describe(torch.ones(2,3).fill_(5))"
   ]
  },
  {
   "cell_type": "code",
   "execution_count": 7,
   "metadata": {},
   "outputs": [
    {
     "name": "stdout",
     "output_type": "stream",
     "text": [
      "Type: torch.FloatTensor\n",
      "Shape: torch.Size([2, 3])\n",
      "Values: tensor([[1., 2., 3.],\n",
      "        [5., 6., 7.]])\n"
     ]
    }
   ],
   "source": [
    "# tensor from a list    \n",
    "x = torch.Tensor([[1,2,3],[5,6,7]])\n",
    "describe(x)\n",
    "\n",
    "# so by default, the data type of a tensor is Float. Even if these were initialized using integer values."
   ]
  },
  {
   "cell_type": "code",
   "execution_count": 9,
   "metadata": {},
   "outputs": [
    {
     "name": "stdout",
     "output_type": "stream",
     "text": [
      "Type: torch.DoubleTensor\n",
      "Shape: torch.Size([2, 3])\n",
      "Values: tensor([[0.0821, 0.8971, 0.5960],\n",
      "        [0.2798, 0.2989, 0.3593]], dtype=torch.float64)\n"
     ]
    }
   ],
   "source": [
    "# tensor from a numpy array\n",
    "arr = np.random.rand(2,3)\n",
    "tensor = torch.from_numpy(arr)\n",
    "\n",
    "describe(tensor)\n",
    "# when creating from numpy, data type is DoubleTensor. This is numpy is by default float64"
   ]
  },
  {
   "cell_type": "code",
   "execution_count": 11,
   "metadata": {},
   "outputs": [
    {
     "name": "stdout",
     "output_type": "stream",
     "text": [
      "Type: torch.FloatTensor\n",
      "Shape: torch.Size([2, 3])\n",
      "Values: tensor([[1., 2., 3.],\n",
      "        [4., 5., 6.]])\n",
      "Type: torch.LongTensor\n",
      "Shape: torch.Size([2, 3])\n",
      "Values: tensor([[1, 2, 3],\n",
      "        [4, 5, 6]])\n",
      "Type: torch.LongTensor\n",
      "Shape: torch.Size([2, 3])\n",
      "Values: tensor([[1, 2, 3],\n",
      "        [4, 5, 6]])\n"
     ]
    }
   ],
   "source": [
    "# tensor types\n",
    "x = torch.FloatTensor([[1,2,3], [4,5,6]])\n",
    "describe(x)\n",
    "\n",
    "x = x.long()  # type casting\n",
    "describe(x)\n",
    "\n",
    "x = torch.tensor([[1,2,3], [4,5,6]], dtype=torch.int64)  # specifying data type during creation. NOTICE: `t` of tensor.\n",
    "describe(x)"
   ]
  },
  {
   "cell_type": "code",
   "execution_count": 15,
   "metadata": {},
   "outputs": [
    {
     "name": "stdout",
     "output_type": "stream",
     "text": [
      "Type: torch.FloatTensor\n",
      "Shape: torch.Size([2, 3])\n",
      "Values: tensor([[0.7849, 0.9974, 0.6105],\n",
      "        [0.8287, 0.6743, 0.3345]])\n",
      "\n",
      "Addition with torch.add ----------------------\n",
      "Type: torch.FloatTensor\n",
      "Shape: torch.Size([2, 3])\n",
      "Values: tensor([[1.5698, 1.9947, 1.2209],\n",
      "        [1.6574, 1.3486, 0.6690]])\n",
      "\n",
      "Addition with + ----------------------\n",
      "Type: torch.FloatTensor\n",
      "Shape: torch.Size([2, 3])\n",
      "Values: tensor([[1.5698, 1.9947, 1.2209],\n",
      "        [1.6574, 1.3486, 0.6690]])\n"
     ]
    }
   ],
   "source": [
    "# tensor operations\n",
    "x = torch.rand(2,3)\n",
    "describe(x)\n",
    "\n",
    "print_sep('Addition with torch.add')\n",
    "describe(torch.add(x, x))\n",
    "\n",
    "print_sep('Addition with +')\n",
    "describe(x + x)\n",
    "\n",
    "# Other arithmetical operations can be performed also. These operations are applied element wise."
   ]
  },
  {
   "cell_type": "code",
   "execution_count": 16,
   "metadata": {},
   "outputs": [
    {
     "name": "stdout",
     "output_type": "stream",
     "text": [
      "\n",
      "torch.arange ----------------------\n",
      "Type: torch.LongTensor\n",
      "Shape: torch.Size([6])\n",
      "Values: tensor([0, 1, 2, 3, 4, 5])\n",
      "\n",
      "torch.view ----------------------\n",
      "Type: torch.LongTensor\n",
      "Shape: torch.Size([2, 3])\n",
      "Values: tensor([[0, 1, 2],\n",
      "        [3, 4, 5]])\n",
      "\n",
      "torch.transpose ----------------------\n",
      "Type: torch.LongTensor\n",
      "Shape: torch.Size([3, 2])\n",
      "Values: tensor([[0, 3],\n",
      "        [1, 4],\n",
      "        [2, 5]])\n"
     ]
    }
   ],
   "source": [
    "# Dimension related operations\n",
    "x = torch.arange(6)  # its like python range!\n",
    "\n",
    "print_sep('torch.arange')\n",
    "describe(x)\n",
    "\n",
    "print_sep('torch.view')\n",
    "x = x.view(2, 3)\n",
    "describe(x)\n",
    "\n",
    "print_sep('torch.transpose')\n",
    "x = x.transpose(0, 1)\n",
    "describe(x)"
   ]
  },
  {
   "cell_type": "code",
   "execution_count": 21,
   "metadata": {},
   "outputs": [
    {
     "name": "stdout",
     "output_type": "stream",
     "text": [
      "Type: torch.LongTensor\n",
      "Shape: torch.Size([2, 5])\n",
      "Values: tensor([[0, 1, 2, 3, 4],\n",
      "        [5, 6, 7, 8, 9]])\n",
      "\n",
      "slicing ----------------------\n",
      "Type: torch.LongTensor\n",
      "Shape: torch.Size([1, 3])\n",
      "Values: tensor([[7, 8, 9]])\n",
      "\n",
      "Complex indexing ----------------------\n",
      "Type: torch.LongTensor\n",
      "Shape: torch.Size([])\n",
      "Values: 7\n"
     ]
    }
   ],
   "source": [
    "x = torch.arange(10).view(2, 5)\n",
    "describe(x)\n",
    "\n",
    "print_sep('slicing')\n",
    "describe(x[1:, -3:])  # from 1 in 0 dim, from 2 in 1 dim\n",
    "\n",
    "print_sep('Complex indexing')\n",
    "describe(x[1,2])"
   ]
  },
  {
   "cell_type": "code",
   "execution_count": 23,
   "metadata": {},
   "outputs": [
    {
     "name": "stdout",
     "output_type": "stream",
     "text": [
      "Type: torch.LongTensor\n",
      "Shape: torch.Size([2, 5])\n",
      "Values: tensor([[0, 1, 2, 3, 4],\n",
      "        [5, 6, 7, 8, 9]])\n",
      "\n",
      "Index select ----------------------\n",
      "Type: torch.LongTensor\n",
      "Shape: torch.Size([2, 2])\n",
      "Values: tensor([[0, 2],\n",
      "        [5, 7]])\n"
     ]
    }
   ],
   "source": [
    "# complex indexing\n",
    "describe(x)\n",
    "\n",
    "print_sep('Index select')\n",
    "indices = torch.LongTensor([0, 2])\n",
    "describe(torch.index_select(x, dim=1, index=indices))  # select values of the given indices"
   ]
  }
 ],
 "metadata": {
  "kernelspec": {
   "display_name": "Python 3.9.0 ('gen_env')",
   "language": "python",
   "name": "python3"
  },
  "language_info": {
   "codemirror_mode": {
    "name": "ipython",
    "version": 3
   },
   "file_extension": ".py",
   "mimetype": "text/x-python",
   "name": "python",
   "nbconvert_exporter": "python",
   "pygments_lexer": "ipython3",
   "version": "3.9.0"
  },
  "orig_nbformat": 4,
  "vscode": {
   "interpreter": {
    "hash": "c296acb6242aad5c3f7786c5a0ae309e8ef4cdc760e8462d49ca738e0119baf8"
   }
  }
 },
 "nbformat": 4,
 "nbformat_minor": 2
}
